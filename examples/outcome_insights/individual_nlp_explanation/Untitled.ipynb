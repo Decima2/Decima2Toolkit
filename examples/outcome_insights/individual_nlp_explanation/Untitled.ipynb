{
 "cells": [
  {
   "cell_type": "code",
   "execution_count": 1,
   "id": "9d078fc5-0566-4af7-aa61-d17f68cc1a63",
   "metadata": {},
   "outputs": [],
   "source": [
    "from decima2 import individual_nlp_explanation"
   ]
  },
  {
   "cell_type": "code",
   "execution_count": 15,
   "id": "f343e2d4-4fc8-40ac-9526-9c4417df3501",
   "metadata": {},
   "outputs": [],
   "source": [
    "text1 = \"oil painting of a romantic sunset\"\n",
    "text2 = \"drawing of a black dog sitting on a tree with a sunset\"\n",
    "model_name = \"bert-base-uncased\""
   ]
  },
  {
   "cell_type": "code",
   "execution_count": 16,
   "id": "d9993643-f80d-456d-88ad-013c5f71cbb1",
   "metadata": {},
   "outputs": [],
   "source": [
    "app = individual_nlp_explanation(text1, text2, model_name)\n"
   ]
  },
  {
   "cell_type": "code",
   "execution_count": 17,
   "id": "1edd4133-98ea-4a9d-bcde-36b04e5c9a88",
   "metadata": {},
   "outputs": [
    {
     "data": {
      "text/html": [
       "\n",
       "        <iframe\n",
       "            width=\"100%\"\n",
       "            height=\"650\"\n",
       "            src=\"http://127.0.0.1:8050/\"\n",
       "            frameborder=\"0\"\n",
       "            allowfullscreen\n",
       "            \n",
       "        ></iframe>\n",
       "        "
      ],
      "text/plain": [
       "<IPython.lib.display.IFrame at 0x156a3f0b0>"
      ]
     },
     "metadata": {},
     "output_type": "display_data"
    }
   ],
   "source": [
    "app.run()"
   ]
  },
  {
   "cell_type": "code",
   "execution_count": null,
   "id": "a5c00261-1c5e-48de-9f6f-fe6e634c775b",
   "metadata": {},
   "outputs": [],
   "source": []
  }
 ],
 "metadata": {
  "kernelspec": {
   "display_name": "Python 3 (ipykernel)",
   "language": "python",
   "name": "python3"
  },
  "language_info": {
   "codemirror_mode": {
    "name": "ipython",
    "version": 3
   },
   "file_extension": ".py",
   "mimetype": "text/x-python",
   "name": "python",
   "nbconvert_exporter": "python",
   "pygments_lexer": "ipython3",
   "version": "3.12.7"
  }
 },
 "nbformat": 4,
 "nbformat_minor": 5
}
