{
 "cells": [
  {
   "cell_type": "code",
   "execution_count": null,
   "id": "cc3c179a-dc6f-48e7-b828-2c1fa2b10421",
   "metadata": {},
   "outputs": [],
   "source": []
  }
 ],
 "metadata": {
  "kernelspec": {
   "display_name": "",
   "name": ""
  },
  "language_info": {
   "name": ""
  }
 },
 "nbformat": 4,
 "nbformat_minor": 5
}
