{
 "cells": [
  {
   "cell_type": "markdown",
   "id": "e121914e-d510-4d1e-b320-d4bf561b6673",
   "metadata": {},
   "source": [
    "# DECIMA2 FEATURE IMPORTANCES TAKE 1/10 TIME AS SHAP"
   ]
  },
  {
   "cell_type": "markdown",
   "id": "bffeb794-774c-47c6-93ae-bdf46c700540",
   "metadata": {},
   "source": [
    "In this notebook we train a Random Forest Regressor on the California dataset provided by the SHAP library. we then generate Decima2 and SHAP feature importance explanations for this model and show that Decima2 explanations take half the time as SHAP"
   ]
  },
  {
   "cell_type": "markdown",
   "id": "5b13bec5-ef1d-40fe-99de-1f666dd07699",
   "metadata": {},
   "source": [
    "We first import the relevant libraries"
   ]
  },
  {
   "cell_type": "code",
   "execution_count": 1,
   "id": "6582dd1a-30bc-49a1-b373-7bfe27e8d3cb",
   "metadata": {},
   "outputs": [],
   "source": [
    "import shap\n",
    "\n",
    "from decima2 import model_feature_importance\n",
    "\n",
    "\n",
    "from sklearn.model_selection import train_test_split\n",
    "from sklearn.ensemble import RandomForestRegressor\n",
    "\n",
    "from decima2.utils.utils import feature_names\n",
    "import time"
   ]
  },
  {
   "cell_type": "markdown",
   "id": "100c889f-173c-4eb9-9ff0-4091edbb9c17",
   "metadata": {},
   "source": [
    "We then download the California dataset and train a Random Forest Regressor on this dataset"
   ]
  },
  {
   "cell_type": "code",
   "execution_count": 2,
   "id": "c999b68f-f058-4ddb-9ad4-1f50ca4f2435",
   "metadata": {},
   "outputs": [
    {
     "data": {
      "text/plain": [
       "0.7939460881429082"
      ]
     },
     "execution_count": 2,
     "metadata": {},
     "output_type": "execute_result"
    }
   ],
   "source": [
    "X, y = shap.datasets.california(n_points=5000)\n",
    "X_train, X_test, y_train, y_test = train_test_split(X, y, test_size=0.20, random_state=42)\n",
    "model = RandomForestRegressor(max_depth=100, random_state=42)\n",
    "model.fit(X_train, y_train)\n",
    "model.score(X_test,y_test)"
   ]
  },
  {
   "cell_type": "markdown",
   "id": "8f8a4074-8740-45a5-a373-e29246133254",
   "metadata": {},
   "source": [
    "We then generate our Decima2 feature importances and print out the time taken "
   ]
  },
  {
   "cell_type": "code",
   "execution_count": 3,
   "id": "a7e8d08b-72fa-4803-9b9d-9993c76756e9",
   "metadata": {},
   "outputs": [
    {
     "name": "stdout",
     "output_type": "stream",
     "text": [
      "Decima2 explanations took 1.913661003112793 seconds to run\n"
     ]
    },
    {
     "data": {
      "text/html": [
       "<div>\n",
       "<style scoped>\n",
       "    .dataframe tbody tr th:only-of-type {\n",
       "        vertical-align: middle;\n",
       "    }\n",
       "\n",
       "    .dataframe tbody tr th {\n",
       "        vertical-align: top;\n",
       "    }\n",
       "\n",
       "    .dataframe thead th {\n",
       "        text-align: right;\n",
       "    }\n",
       "</style>\n",
       "<table border=\"1\" class=\"dataframe\">\n",
       "  <thead>\n",
       "    <tr style=\"text-align: right;\">\n",
       "      <th></th>\n",
       "      <th>Feature</th>\n",
       "      <th>Importance</th>\n",
       "    </tr>\n",
       "  </thead>\n",
       "  <tbody>\n",
       "    <tr>\n",
       "      <th>0</th>\n",
       "      <td>MedInc</td>\n",
       "      <td>1.61204</td>\n",
       "    </tr>\n",
       "    <tr>\n",
       "      <th>5</th>\n",
       "      <td>AveOccup</td>\n",
       "      <td>1.10874</td>\n",
       "    </tr>\n",
       "    <tr>\n",
       "      <th>1</th>\n",
       "      <td>HouseAge</td>\n",
       "      <td>1.05748</td>\n",
       "    </tr>\n",
       "    <tr>\n",
       "      <th>6</th>\n",
       "      <td>Latitude</td>\n",
       "      <td>0.94145</td>\n",
       "    </tr>\n",
       "    <tr>\n",
       "      <th>7</th>\n",
       "      <td>Longitude</td>\n",
       "      <td>0.82292</td>\n",
       "    </tr>\n",
       "    <tr>\n",
       "      <th>4</th>\n",
       "      <td>Population</td>\n",
       "      <td>0.76992</td>\n",
       "    </tr>\n",
       "    <tr>\n",
       "      <th>2</th>\n",
       "      <td>AveRooms</td>\n",
       "      <td>0.75381</td>\n",
       "    </tr>\n",
       "    <tr>\n",
       "      <th>3</th>\n",
       "      <td>AveBedrms</td>\n",
       "      <td>0.74750</td>\n",
       "    </tr>\n",
       "  </tbody>\n",
       "</table>\n",
       "</div>"
      ],
      "text/plain": [
       "      Feature  Importance\n",
       "0      MedInc     1.61204\n",
       "5    AveOccup     1.10874\n",
       "1    HouseAge     1.05748\n",
       "6    Latitude     0.94145\n",
       "7   Longitude     0.82292\n",
       "4  Population     0.76992\n",
       "2    AveRooms     0.75381\n",
       "3   AveBedrms     0.74750"
      ]
     },
     "execution_count": 3,
     "metadata": {},
     "output_type": "execute_result"
    }
   ],
   "source": [
    "st = time.time()\n",
    "explanation_app = model_feature_importance(X_test,y_test,model,output='text')\n",
    "et = time.time()\n",
    "print(\"Decima2 explanations took \"+str(et-st) + \" seconds to run\")\n",
    "explanation_app"
   ]
  },
  {
   "cell_type": "markdown",
   "id": "5ee87838-ddbf-4fa1-8313-01a927d3d47e",
   "metadata": {},
   "source": [
    "We then generate our SHAP explanations and print out the time taken "
   ]
  },
  {
   "cell_type": "code",
   "execution_count": 4,
   "id": "2fd58342-1cda-40fd-bd65-c7ee9e421377",
   "metadata": {},
   "outputs": [
    {
     "name": "stderr",
     "output_type": "stream",
     "text": [
      " 97%|=================== | 967/1000 [00:27<00:00]       "
     ]
    },
    {
     "name": "stdout",
     "output_type": "stream",
     "text": [
      "SHAP explanations took 27.751878023147583 seconds to run\n"
     ]
    }
   ],
   "source": [
    "st = time.time()\n",
    "explainer = shap.Explainer(model, X_test)\n",
    "shap_values = explainer(X_test,check_additivity=False)\n",
    "et = time.time()\n",
    "print(\"SHAP explanations took \"+str(et-st) + \" seconds to run\")"
   ]
  },
  {
   "cell_type": "code",
   "execution_count": 5,
   "id": "d20e2785-d947-4715-a892-b784487b00b4",
   "metadata": {},
   "outputs": [
    {
     "data": {
      "text/html": [
       "<div>\n",
       "<style scoped>\n",
       "    .dataframe tbody tr th:only-of-type {\n",
       "        vertical-align: middle;\n",
       "    }\n",
       "\n",
       "    .dataframe tbody tr th {\n",
       "        vertical-align: top;\n",
       "    }\n",
       "\n",
       "    .dataframe thead th {\n",
       "        text-align: right;\n",
       "    }\n",
       "</style>\n",
       "<table border=\"1\" class=\"dataframe\">\n",
       "  <thead>\n",
       "    <tr style=\"text-align: right;\">\n",
       "      <th></th>\n",
       "      <th>Feature</th>\n",
       "      <th>Importance</th>\n",
       "    </tr>\n",
       "  </thead>\n",
       "  <tbody>\n",
       "    <tr>\n",
       "      <th>0</th>\n",
       "      <td>MedInc</td>\n",
       "      <td>0.12332</td>\n",
       "    </tr>\n",
       "    <tr>\n",
       "      <th>6</th>\n",
       "      <td>Latitude</td>\n",
       "      <td>0.07649</td>\n",
       "    </tr>\n",
       "    <tr>\n",
       "      <th>7</th>\n",
       "      <td>Longitude</td>\n",
       "      <td>0.02770</td>\n",
       "    </tr>\n",
       "    <tr>\n",
       "      <th>2</th>\n",
       "      <td>AveRooms</td>\n",
       "      <td>0.01672</td>\n",
       "    </tr>\n",
       "    <tr>\n",
       "      <th>1</th>\n",
       "      <td>HouseAge</td>\n",
       "      <td>0.01238</td>\n",
       "    </tr>\n",
       "    <tr>\n",
       "      <th>3</th>\n",
       "      <td>AveBedrms</td>\n",
       "      <td>0.00348</td>\n",
       "    </tr>\n",
       "    <tr>\n",
       "      <th>5</th>\n",
       "      <td>AveOccup</td>\n",
       "      <td>0.00317</td>\n",
       "    </tr>\n",
       "    <tr>\n",
       "      <th>4</th>\n",
       "      <td>Population</td>\n",
       "      <td>0.00146</td>\n",
       "    </tr>\n",
       "  </tbody>\n",
       "</table>\n",
       "</div>"
      ],
      "text/plain": [
       "      Feature  Importance\n",
       "0      MedInc     0.12332\n",
       "6    Latitude     0.07649\n",
       "7   Longitude     0.02770\n",
       "2    AveRooms     0.01672\n",
       "1    HouseAge     0.01238\n",
       "3   AveBedrms     0.00348\n",
       "5    AveOccup     0.00317\n",
       "4  Population     0.00146"
      ]
     },
     "execution_count": 5,
     "metadata": {},
     "output_type": "execute_result"
    }
   ],
   "source": [
    "attributions = shap_values.values.mean(axis=0)\n",
    "attributions = attributions.reshape(X_test.shape[1])\n",
    "feature_names(X_test,attributions)"
   ]
  },
  {
   "cell_type": "markdown",
   "id": "dea299b0-7688-4434-bb5f-b7f7d5cc1fc6",
   "metadata": {},
   "source": [
    "From this exampe we can see that both explanation methods agree on the most important feature for this dataset and model, however, our Decima2 explanation method took 1/10 of the time the SHAP algorithm took!"
   ]
  },
  {
   "cell_type": "code",
   "execution_count": null,
   "id": "2cea6e8b-1041-40b1-8cff-87f9f5696ba9",
   "metadata": {},
   "outputs": [],
   "source": []
  }
 ],
 "metadata": {
  "kernelspec": {
   "display_name": "Python 3 (ipykernel)",
   "language": "python",
   "name": "python3"
  },
  "language_info": {
   "codemirror_mode": {
    "name": "ipython",
    "version": 3
   },
   "file_extension": ".py",
   "mimetype": "text/x-python",
   "name": "python",
   "nbconvert_exporter": "python",
   "pygments_lexer": "ipython3",
   "version": "3.12.7"
  }
 },
 "nbformat": 4,
 "nbformat_minor": 5
}
