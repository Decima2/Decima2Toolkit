{
 "cells": [
  {
   "cell_type": "markdown",
   "id": "3aff6c3d-5ad9-4ca9-8ea4-183a9a9ae70c",
   "metadata": {},
   "source": [
    "## Decima2 gives greater importance to causally significant variables than SHAP "
   ]
  },
  {
   "cell_type": "markdown",
   "id": "d6e3bce3-eb73-47c9-9b17-d046ba4ae6bf",
   "metadata": {},
   "source": [
    "In this notebook, we generate some synthetic data using a subscriber retention use-case (based on this [example](https://shap.readthedocs.io/en/latest/example_notebooks/overviews/Be%20careful%20when%20interpreting%20predictive%20models%20in%20search%20of%20causal%20insights.html))\n",
    "\n",
    "We train a Random Forest Classifier model to predict subscriber retention and then determine the Decima2 explanations and SHAP explanations for this example. As we know the ground truth dependency between subscriber retention and each input feature we show how our Decima2 explanations addresses imitations of SHAP (raised initially [here](https://link-url-here.org)) and identifies <b> Sales Calls as the most important feature as it has an indirect impact on subscriber rentention via all other features. </b> \n",
    "\n",
    "We first import the relevant libraries"
   ]
  },
  {
   "cell_type": "code",
   "execution_count": 1,
   "id": "6582dd1a-30bc-49a1-b373-7bfe27e8d3cb",
   "metadata": {},
   "outputs": [],
   "source": [
    "import shap\n",
    "from decima2 import model_feature_importance\n",
    "\n",
    "\n",
    "from sklearn.model_selection import train_test_split\n",
    "from sklearn.ensemble import RandomForestClassifier\n",
    "\n",
    "from decima2.utils.utils import feature_names\n",
    "import time"
   ]
  },
  {
   "cell_type": "markdown",
   "id": "507ffb02-ff32-4172-bb1d-ab1cf4da53b0",
   "metadata": {},
   "source": [
    "We then generate our synthetic data using the generator() function where we cretae all of our variables which are all descended from \"sales_calls\""
   ]
  },
  {
   "cell_type": "code",
   "execution_count": 2,
   "id": "567fe225-3b54-481a-a588-e53dff1eab52",
   "metadata": {},
   "outputs": [],
   "source": [
    "# This cell defines the functions we use to generate the data in our scenario\n",
    "\n",
    "import numpy as np\n",
    "import pandas as pd\n",
    "import scipy.stats\n",
    "import sklearn\n",
    "\n",
    "\n",
    "class FixableDataFrame(pd.DataFrame):\n",
    "    \"\"\"Helper class for manipulating generative models.\"\"\"\n",
    "\n",
    "    def __init__(self, *args, fixed={}, **kwargs):\n",
    "        self.__dict__[\"__fixed_var_dictionary\"] = fixed\n",
    "        super().__init__(*args, **kwargs)\n",
    "\n",
    "    def __setitem__(self, key, value):\n",
    "        out = super().__setitem__(key, value)\n",
    "        if isinstance(key, str) and key in self.__dict__[\"__fixed_var_dictionary\"]:\n",
    "            out = super().__setitem__(key, self.__dict__[\"__fixed_var_dictionary\"][key])\n",
    "        return out\n",
    "\n",
    "\n",
    "# generate the data\n",
    "def generator(n, fixed={}, seed=0):\n",
    "    \"\"\"The generative model for our subscriber retention example.\"\"\"\n",
    "    if seed is not None:\n",
    "        np.random.seed(seed)\n",
    "    X = FixableDataFrame(fixed=fixed)\n",
    "\n",
    "    # the number of sales calls made to this customer\n",
    "    X[\"Sales calls\"] = np.random.uniform(0, 4, size=(n,)).round()\n",
    "\n",
    "    # the number of sales calls made to this customer\n",
    "    X[\"Interactions\"] = X[\"Sales calls\"] + np.random.poisson(0.2, size=(n,))\n",
    "\n",
    "    # the health of the regional economy this customer is a part of\n",
    "    #X[\"Economy\"] = np.random.uniform(0, 1, size=(n,))\n",
    "\n",
    "    # the time since the last product upgrade when this customer came up for renewal\n",
    "    #X[\"Last upgrade\"] = np.random.uniform(0, 20, size=(n,))\n",
    "\n",
    "    # how much the user perceives that they need the product\n",
    "    X[\"Product need\"] = X[\"Sales calls\"] * 0.1 + np.random.normal(0, 1, size=(n,))\n",
    "\n",
    "    # the fractional discount offered to this customer upon renewal\n",
    "    X[\"Discount\"] = ((1 - scipy.special.expit(X[\"Product need\"])) * 0.5 + 0.5 * np.random.uniform(0, 1, size=(n,))) / 2\n",
    "\n",
    "    # What percent of the days in the last period was the user actively using the product\n",
    "    X[\"Monthly usage\"] = scipy.special.expit(X[\"Product need\"] * 0.3 + np.random.normal(0, 1, size=(n,)))\n",
    "\n",
    "    # how much ad money we spent per user targeted at this user (or a group this user is in)\n",
    "   # I X[\"Ad spend\"] = (\n",
    "    #    X[\"Monthly usage\"] * np.random.uniform(0.99, 0.9, size=(n,)) + (X[\"Last upgrade\"] < 1) + (X[\"Last upgrade\"] < 2)\n",
    "    #)\n",
    "\n",
    "    X[\"Ad spend\"] = (\n",
    "        X[\"Monthly usage\"] * np.random.uniform(0.99, 0.9, size=(n,))\n",
    "    )\n",
    "\n",
    "    # how many bugs did this user encounter in the since their last renewal\n",
    "   # X[\"Bugs faced\"] = np.array([np.random.poisson(v * 2) for v in X[\"Monthly usage\"]])\n",
    "\n",
    "    # how many bugs did the user report?\n",
    "   # X[\"Bugs reported\"] = (X[\"Bugs faced\"] * scipy.special.expit(X[\"Product need\"])).round()\n",
    "\n",
    "    # did the user renew?\n",
    "    X[\"Did renew\"] = scipy.special.expit(\n",
    "        7\n",
    "        * (\n",
    "            0.1 * X[\"Product need\"]\n",
    "            + 0.1 * X[\"Monthly usage\"]\n",
    "            #+ 0.1 * X[\"Economy\"]\n",
    "            + 0.1 * X[\"Discount\"]\n",
    "            + 0.1 * np.random.normal(0, 1, size=(n,))\n",
    "            #+ 0.1 * ([\"Bugs faced\"])\n",
    "            + 0.1 * X[\"Sales calls\"]\n",
    "            + 0.1 * X[\"Interactions\"]\n",
    "           # + 0.1 * (X[\"Last upgrade\"])\n",
    "            + 0.1 * X[\"Ad spend\"]\n",
    "            - 0.45\n",
    "        )\n",
    "    )\n",
    "\n",
    "    # in real life we would make a random draw to get either 0 or 1 for if the\n",
    "    # customer did or did not renew. but here we leave the label as the probability\n",
    "    # so that we can get less noise in our plots. Uncomment this line to get\n",
    "    # noiser causal effect lines but the same basic results\n",
    "    X[\"Did renew\"] = scipy.stats.bernoulli.rvs(X[\"Did renew\"])\n",
    "\n",
    "    return X\n",
    "\n",
    "\n",
    "def user_retention_dataset():\n",
    "    \"\"\"The observed data for model training.\"\"\"\n",
    "    n = 10000\n",
    "    X_full = generator(n)\n",
    "    y = X_full[\"Did renew\"]\n",
    "    X = X_full.drop([\"Did renew\", \"Product need\"], axis=1)\n",
    "    return X, y\n",
    "\n",
    "\n",
    "def fit_xgboost(X, y):\n",
    "    \"\"\"Train an XGBoost model with early stopping.\"\"\"\n",
    "    X_train, X_test, y_train, y_test = sklearn.model_selection.train_test_split(X, y)\n",
    "    dtrain = xgboost.DMatrix(X_train, label=y_train)\n",
    "    dtest = xgboost.DMatrix(X_test, label=y_test)\n",
    "    model = xgboost.train(\n",
    "        {\"eta\": 0.001, \"subsample\": 0.5, \"max_depth\": 2, \"objective\": \"reg:logistic\"},\n",
    "        dtrain,\n",
    "        num_boost_round=200000,\n",
    "        evals=((dtest, \"test\"),),\n",
    "        early_stopping_rounds=20,\n",
    "        verbose_eval=False,\n",
    "    )\n",
    "    return model"
   ]
  },
  {
   "cell_type": "markdown",
   "id": "0bd95a98-27fc-439a-9317-63bb939a85c9",
   "metadata": {},
   "source": [
    "We then generate our train and test sets using our synthetic data and train a Random Forest Classifier on this data. "
   ]
  },
  {
   "cell_type": "code",
   "execution_count": 3,
   "id": "c999b68f-f058-4ddb-9ad4-1f50ca4f2435",
   "metadata": {},
   "outputs": [
    {
     "data": {
      "text/plain": [
       "0.7455"
      ]
     },
     "execution_count": 3,
     "metadata": {},
     "output_type": "execute_result"
    }
   ],
   "source": [
    "X, y = user_retention_dataset()\n",
    "\n",
    "X_train, X_test, y_train, y_test = train_test_split(X, y, test_size=0.20, random_state=42)\n",
    "model = RandomForestClassifier(max_depth=100, random_state=42)\n",
    "model.fit(X_train, y_train)\n",
    "model.score(X_test,y_test)"
   ]
  },
  {
   "cell_type": "markdown",
   "id": "9a412a7e-6144-49d0-8a70-8739aa760470",
   "metadata": {},
   "source": [
    "we then generate our Decima2 model explanations, where we see that our algorithm took 2.8 seconds to run and our most important feature was, as we wanted, sales_calls"
   ]
  },
  {
   "cell_type": "code",
   "execution_count": 4,
   "id": "a7e8d08b-72fa-4803-9b9d-9993c76756e9",
   "metadata": {},
   "outputs": [
    {
     "name": "stdout",
     "output_type": "stream",
     "text": [
      "<class 'pandas.core.series.Series'>\n",
      "2.8317980766296387\n"
     ]
    },
    {
     "data": {
      "text/html": [
       "<div>\n",
       "<style scoped>\n",
       "    .dataframe tbody tr th:only-of-type {\n",
       "        vertical-align: middle;\n",
       "    }\n",
       "\n",
       "    .dataframe tbody tr th {\n",
       "        vertical-align: top;\n",
       "    }\n",
       "\n",
       "    .dataframe thead th {\n",
       "        text-align: right;\n",
       "    }\n",
       "</style>\n",
       "<table border=\"1\" class=\"dataframe\">\n",
       "  <thead>\n",
       "    <tr style=\"text-align: right;\">\n",
       "      <th></th>\n",
       "      <th>Feature</th>\n",
       "      <th>Importance</th>\n",
       "    </tr>\n",
       "  </thead>\n",
       "  <tbody>\n",
       "    <tr>\n",
       "      <th>0</th>\n",
       "      <td>Sales calls</td>\n",
       "      <td>0.1575</td>\n",
       "    </tr>\n",
       "    <tr>\n",
       "      <th>1</th>\n",
       "      <td>Interactions</td>\n",
       "      <td>0.0865</td>\n",
       "    </tr>\n",
       "    <tr>\n",
       "      <th>2</th>\n",
       "      <td>Discount</td>\n",
       "      <td>0.0540</td>\n",
       "    </tr>\n",
       "    <tr>\n",
       "      <th>3</th>\n",
       "      <td>Monthly usage</td>\n",
       "      <td>0.0440</td>\n",
       "    </tr>\n",
       "    <tr>\n",
       "      <th>4</th>\n",
       "      <td>Ad spend</td>\n",
       "      <td>0.0425</td>\n",
       "    </tr>\n",
       "  </tbody>\n",
       "</table>\n",
       "</div>"
      ],
      "text/plain": [
       "         Feature  Importance\n",
       "0    Sales calls      0.1575\n",
       "1   Interactions      0.0865\n",
       "2       Discount      0.0540\n",
       "3  Monthly usage      0.0440\n",
       "4       Ad spend      0.0425"
      ]
     },
     "execution_count": 4,
     "metadata": {},
     "output_type": "execute_result"
    }
   ],
   "source": [
    "st = time.time()\n",
    "print(type(y_test))\n",
    "explanation_app = model_feature_importance(X_test,y_test,model,output='text')\n",
    "et = time.time()\n",
    "print(et-st)\n",
    "\n",
    "\"\"\"if __name__ == '__main__':\n",
    "    explanation_app.run_server(debug=True)\"\"\"\n",
    "explanation_app\n"
   ]
  },
  {
   "cell_type": "markdown",
   "id": "36de0bb9-de42-4f28-8bbe-10597f82bd14",
   "metadata": {},
   "source": [
    "we then run the SHAP algorithm to get SHAP explanations and we can see that the SHAP algorithm took 79 seconds to run. Furthermore we can see that discount, rather than sales calls was most identified as the most important feature depsite it being directly influenced by sales_calls."
   ]
  },
  {
   "cell_type": "code",
   "execution_count": 5,
   "id": "2fd58342-1cda-40fd-bd65-c7ee9e421377",
   "metadata": {},
   "outputs": [
    {
     "name": "stderr",
     "output_type": "stream",
     "text": [
      "100%|===================| 3993/4000 [01:19<00:00]        "
     ]
    },
    {
     "name": "stdout",
     "output_type": "stream",
     "text": [
      "79.06384086608887\n"
     ]
    }
   ],
   "source": [
    "st = time.time()\n",
    "explainer = shap.Explainer(model, X_test)\n",
    "shap_values = explainer(X_test,check_additivity=False)\n",
    "et = time.time()\n",
    "print(et-st)"
   ]
  },
  {
   "cell_type": "code",
   "execution_count": 6,
   "id": "d20e2785-d947-4715-a892-b784487b00b4",
   "metadata": {},
   "outputs": [
    {
     "data": {
      "text/html": [
       "<div>\n",
       "<style scoped>\n",
       "    .dataframe tbody tr th:only-of-type {\n",
       "        vertical-align: middle;\n",
       "    }\n",
       "\n",
       "    .dataframe tbody tr th {\n",
       "        vertical-align: top;\n",
       "    }\n",
       "\n",
       "    .dataframe thead th {\n",
       "        text-align: right;\n",
       "    }\n",
       "</style>\n",
       "<table border=\"1\" class=\"dataframe\">\n",
       "  <thead>\n",
       "    <tr style=\"text-align: right;\">\n",
       "      <th></th>\n",
       "      <th>Feature</th>\n",
       "      <th>Importance</th>\n",
       "    </tr>\n",
       "  </thead>\n",
       "  <tbody>\n",
       "    <tr>\n",
       "      <th>2</th>\n",
       "      <td>Discount</td>\n",
       "      <td>0.00484</td>\n",
       "    </tr>\n",
       "    <tr>\n",
       "      <th>0</th>\n",
       "      <td>Sales calls</td>\n",
       "      <td>0.00300</td>\n",
       "    </tr>\n",
       "    <tr>\n",
       "      <th>1</th>\n",
       "      <td>Interactions</td>\n",
       "      <td>0.00299</td>\n",
       "    </tr>\n",
       "    <tr>\n",
       "      <th>3</th>\n",
       "      <td>Monthly usage</td>\n",
       "      <td>0.00276</td>\n",
       "    </tr>\n",
       "    <tr>\n",
       "      <th>4</th>\n",
       "      <td>Ad spend</td>\n",
       "      <td>0.00144</td>\n",
       "    </tr>\n",
       "  </tbody>\n",
       "</table>\n",
       "</div>"
      ],
      "text/plain": [
       "         Feature  Importance\n",
       "2       Discount     0.00484\n",
       "0    Sales calls     0.00300\n",
       "1   Interactions     0.00299\n",
       "3  Monthly usage     0.00276\n",
       "4       Ad spend     0.00144"
      ]
     },
     "execution_count": 6,
     "metadata": {},
     "output_type": "execute_result"
    }
   ],
   "source": [
    "attributions = shap_values.values.mean(axis=0)[:,0]\n",
    "attributions = attributions.reshape(X_test.shape[1])\n",
    "feature_names(X_test,attributions)\n"
   ]
  },
  {
   "cell_type": "markdown",
   "id": "127178ec-d10f-443f-903a-67247b7f0050",
   "metadata": {},
   "source": [
    "From this example we can Decima2 can correctly identify causally significant variables where SHAP may not"
   ]
  }
 ],
 "metadata": {
  "kernelspec": {
   "display_name": "Python 3 (ipykernel)",
   "language": "python",
   "name": "python3"
  },
  "language_info": {
   "codemirror_mode": {
    "name": "ipython",
    "version": 3
   },
   "file_extension": ".py",
   "mimetype": "text/x-python",
   "name": "python",
   "nbconvert_exporter": "python",
   "pygments_lexer": "ipython3",
   "version": "3.12.7"
  }
 },
 "nbformat": 4,
 "nbformat_minor": 5
}
