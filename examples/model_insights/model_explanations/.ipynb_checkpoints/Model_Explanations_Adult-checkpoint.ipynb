{
 "cells": [
  {
   "cell_type": "markdown",
   "id": "25751575-33f8-4906-b227-61b78d145c3e",
   "metadata": {},
   "source": [
    "# DECIMA2 EXPLANATIONS TAKE HALF THE TIME AS SHAP"
   ]
  },
  {
   "cell_type": "markdown",
   "id": "8bf55001-405d-4ce6-a37e-19b2a93e812d",
   "metadata": {},
   "source": [
    "In this notebook we show how Decima2 computes model explanations in half the time as the SHAP library on the Adult dataset."
   ]
  },
  {
   "cell_type": "markdown",
   "id": "85568634-1703-444b-ae10-736ed1fbca0e",
   "metadata": {},
   "source": [
    "First import the relevant libraries, including decima2.explanation.explanations.model_explanations from the decima2 library \n"
   ]
  },
  {
   "cell_type": "code",
   "execution_count": 1,
   "id": "6582dd1a-30bc-49a1-b373-7bfe27e8d3cb",
   "metadata": {},
   "outputs": [],
   "source": [
    "import shap\n",
    "from decima2.explanation.explanations import model_explanations\n",
    "from decima2.utils.utils import feature_names\n",
    "import numpy as np\n",
    "import pandas as pd\n",
    "\n",
    "from sklearn.model_selection import train_test_split\n",
    "from sklearn.ensemble import RandomForestClassifier\n",
    "import time"
   ]
  },
  {
   "cell_type": "markdown",
   "id": "de304a43-054d-4edf-abb0-c2adc63d0008",
   "metadata": {},
   "source": [
    "Then, we train a Random Forest Classifier on X_train and y_train and evaluate on X_test, y_test"
   ]
  },
  {
   "cell_type": "code",
   "execution_count": 2,
   "id": "c999b68f-f058-4ddb-9ad4-1f50ca4f2435",
   "metadata": {},
   "outputs": [
    {
     "data": {
      "text/plain": [
       "0.855"
      ]
     },
     "execution_count": 2,
     "metadata": {},
     "output_type": "execute_result"
    }
   ],
   "source": [
    "X, y = shap.datasets.adult(n_points=1000)\n",
    "X_train, X_test, y_train, y_test = train_test_split(X, y, test_size=0.20, random_state=42)\n",
    "model = RandomForestClassifier(max_depth=100, random_state=42)\n",
    "model.fit(X_train, y_train)\n",
    "model.score(X_test,y_test)"
   ]
  },
  {
   "cell_type": "markdown",
   "id": "e341240a-c0a9-41ef-9943-0798a9b7d534",
   "metadata": {},
   "source": [
    "### Decima2 Model Summary Explanations\n",
    "We then pass X_test, y_test and our trained Random Forest Classifier to the Decima2 model_explanations function, specifying we only need the 'text' output"
   ]
  },
  {
   "cell_type": "code",
   "execution_count": 3,
   "id": "a7e8d08b-72fa-4803-9b9d-9993c76756e9",
   "metadata": {},
   "outputs": [
    {
     "name": "stderr",
     "output_type": "stream",
     "text": [
      "/Users/tortysivill/.pyenv/versions/test_mvp/lib/python3.12/site-packages/decima2/utils/data_utils.py:202: UserWarning: Increase the number of test instances to increase the reliability of feature importances \n",
      "  warnings.warn(\"Increase the number of test instances to increase the reliability of feature importances \", UserWarning)\n"
     ]
    },
    {
     "name": "stdout",
     "output_type": "stream",
     "text": [
      "{'Workclass': 0.30499999999999994, 'Marital Status': 0.255, 'Relationship': 0.29499999999999993, 'Race': 0.27, 'Sex': 0.19999999999999996, 'Age': 0.22999999999999998, 'Education-Num': 0.22499999999999998, 'Occupation': 0.29999999999999993, 'Capital Gain': 0.245, 'Capital Loss': 0.245, 'Hours per week': 0.19999999999999996, 'Country': 0.245}\n",
      "time Decima2 takes to compute is 1.4040729999542236s\n"
     ]
    },
    {
     "data": {
      "text/html": [
       "<div>\n",
       "<style scoped>\n",
       "    .dataframe tbody tr th:only-of-type {\n",
       "        vertical-align: middle;\n",
       "    }\n",
       "\n",
       "    .dataframe tbody tr th {\n",
       "        vertical-align: top;\n",
       "    }\n",
       "\n",
       "    .dataframe thead th {\n",
       "        text-align: right;\n",
       "    }\n",
       "</style>\n",
       "<table border=\"1\" class=\"dataframe\">\n",
       "  <thead>\n",
       "    <tr style=\"text-align: right;\">\n",
       "      <th></th>\n",
       "      <th>Feature</th>\n",
       "      <th>Importance</th>\n",
       "    </tr>\n",
       "  </thead>\n",
       "  <tbody>\n",
       "    <tr>\n",
       "      <th>0</th>\n",
       "      <td>Age</td>\n",
       "      <td>0.305</td>\n",
       "    </tr>\n",
       "    <tr>\n",
       "      <th>7</th>\n",
       "      <td>Sex</td>\n",
       "      <td>0.300</td>\n",
       "    </tr>\n",
       "    <tr>\n",
       "      <th>2</th>\n",
       "      <td>Education-Num</td>\n",
       "      <td>0.295</td>\n",
       "    </tr>\n",
       "    <tr>\n",
       "      <th>3</th>\n",
       "      <td>Marital Status</td>\n",
       "      <td>0.270</td>\n",
       "    </tr>\n",
       "    <tr>\n",
       "      <th>1</th>\n",
       "      <td>Workclass</td>\n",
       "      <td>0.255</td>\n",
       "    </tr>\n",
       "    <tr>\n",
       "      <th>8</th>\n",
       "      <td>Capital Gain</td>\n",
       "      <td>0.245</td>\n",
       "    </tr>\n",
       "    <tr>\n",
       "      <th>9</th>\n",
       "      <td>Capital Loss</td>\n",
       "      <td>0.245</td>\n",
       "    </tr>\n",
       "    <tr>\n",
       "      <th>11</th>\n",
       "      <td>Country</td>\n",
       "      <td>0.245</td>\n",
       "    </tr>\n",
       "    <tr>\n",
       "      <th>5</th>\n",
       "      <td>Relationship</td>\n",
       "      <td>0.230</td>\n",
       "    </tr>\n",
       "    <tr>\n",
       "      <th>6</th>\n",
       "      <td>Race</td>\n",
       "      <td>0.225</td>\n",
       "    </tr>\n",
       "    <tr>\n",
       "      <th>4</th>\n",
       "      <td>Occupation</td>\n",
       "      <td>0.200</td>\n",
       "    </tr>\n",
       "    <tr>\n",
       "      <th>10</th>\n",
       "      <td>Hours per week</td>\n",
       "      <td>0.200</td>\n",
       "    </tr>\n",
       "  </tbody>\n",
       "</table>\n",
       "</div>"
      ],
      "text/plain": [
       "           Feature  Importance\n",
       "0              Age       0.305\n",
       "7              Sex       0.300\n",
       "2    Education-Num       0.295\n",
       "3   Marital Status       0.270\n",
       "1        Workclass       0.255\n",
       "8     Capital Gain       0.245\n",
       "9     Capital Loss       0.245\n",
       "11         Country       0.245\n",
       "5     Relationship       0.230\n",
       "6             Race       0.225\n",
       "4       Occupation       0.200\n",
       "10  Hours per week       0.200"
      ]
     },
     "execution_count": 3,
     "metadata": {},
     "output_type": "execute_result"
    }
   ],
   "source": [
    "st = time.time()\n",
    "explanation_app = model_explanations(X_test,y_test,model,output='text')\n",
    "et = time.time()\n",
    "print(\"time Decima2 takes to compute is \"+str(et-st)+\"s\")\n",
    "\n",
    "explanation_app"
   ]
  },
  {
   "cell_type": "markdown",
   "id": "f351cecd-a338-4d21-ac61-849f63e2c359",
   "metadata": {},
   "source": [
    "### Decima2 Model Summary Explanations\n",
    "We then pass X_test our trained Random Forest Classifier to the Shap explanations function. SHAP takes double the time as Decima2 explanations!"
   ]
  },
  {
   "cell_type": "code",
   "execution_count": 4,
   "id": "2fd58342-1cda-40fd-bd65-c7ee9e421377",
   "metadata": {},
   "outputs": [
    {
     "name": "stdout",
     "output_type": "stream",
     "text": [
      "time SHAP takes to compute is 3.3597750663757324s\n"
     ]
    },
    {
     "data": {
      "text/html": [
       "<div>\n",
       "<style scoped>\n",
       "    .dataframe tbody tr th:only-of-type {\n",
       "        vertical-align: middle;\n",
       "    }\n",
       "\n",
       "    .dataframe tbody tr th {\n",
       "        vertical-align: top;\n",
       "    }\n",
       "\n",
       "    .dataframe thead th {\n",
       "        text-align: right;\n",
       "    }\n",
       "</style>\n",
       "<table border=\"1\" class=\"dataframe\">\n",
       "  <thead>\n",
       "    <tr style=\"text-align: right;\">\n",
       "      <th></th>\n",
       "      <th>Feature</th>\n",
       "      <th>Importance</th>\n",
       "    </tr>\n",
       "  </thead>\n",
       "  <tbody>\n",
       "    <tr>\n",
       "      <th>5</th>\n",
       "      <td>Relationship</td>\n",
       "      <td>0.00631</td>\n",
       "    </tr>\n",
       "    <tr>\n",
       "      <th>8</th>\n",
       "      <td>Capital Gain</td>\n",
       "      <td>0.00495</td>\n",
       "    </tr>\n",
       "    <tr>\n",
       "      <th>0</th>\n",
       "      <td>Age</td>\n",
       "      <td>0.00405</td>\n",
       "    </tr>\n",
       "    <tr>\n",
       "      <th>3</th>\n",
       "      <td>Marital Status</td>\n",
       "      <td>0.00217</td>\n",
       "    </tr>\n",
       "    <tr>\n",
       "      <th>2</th>\n",
       "      <td>Education-Num</td>\n",
       "      <td>0.00126</td>\n",
       "    </tr>\n",
       "    <tr>\n",
       "      <th>10</th>\n",
       "      <td>Hours per week</td>\n",
       "      <td>0.00110</td>\n",
       "    </tr>\n",
       "    <tr>\n",
       "      <th>9</th>\n",
       "      <td>Capital Loss</td>\n",
       "      <td>0.00104</td>\n",
       "    </tr>\n",
       "    <tr>\n",
       "      <th>11</th>\n",
       "      <td>Country</td>\n",
       "      <td>0.00080</td>\n",
       "    </tr>\n",
       "    <tr>\n",
       "      <th>1</th>\n",
       "      <td>Workclass</td>\n",
       "      <td>0.00069</td>\n",
       "    </tr>\n",
       "    <tr>\n",
       "      <th>6</th>\n",
       "      <td>Race</td>\n",
       "      <td>0.00057</td>\n",
       "    </tr>\n",
       "    <tr>\n",
       "      <th>7</th>\n",
       "      <td>Sex</td>\n",
       "      <td>0.00050</td>\n",
       "    </tr>\n",
       "    <tr>\n",
       "      <th>4</th>\n",
       "      <td>Occupation</td>\n",
       "      <td>0.00031</td>\n",
       "    </tr>\n",
       "  </tbody>\n",
       "</table>\n",
       "</div>"
      ],
      "text/plain": [
       "           Feature  Importance\n",
       "5     Relationship     0.00631\n",
       "8     Capital Gain     0.00495\n",
       "0              Age     0.00405\n",
       "3   Marital Status     0.00217\n",
       "2    Education-Num     0.00126\n",
       "10  Hours per week     0.00110\n",
       "9     Capital Loss     0.00104\n",
       "11         Country     0.00080\n",
       "1        Workclass     0.00069\n",
       "6             Race     0.00057\n",
       "7              Sex     0.00050\n",
       "4       Occupation     0.00031"
      ]
     },
     "execution_count": 4,
     "metadata": {},
     "output_type": "execute_result"
    }
   ],
   "source": [
    "\n",
    "st = time.time()\n",
    "explainer = shap.Explainer(model, X_test)\n",
    "shap_values = explainer(X_test,check_additivity=False)\n",
    "et = time.time()\n",
    "print(\"time SHAP takes to compute is \"+str(et-st)+\"s\")\n",
    "attributions = shap_values.values.mean(axis=0)[:,0]\n",
    "attributions = attributions.reshape(X_test.shape[1])\n",
    "feature_names(X_test,attributions)"
   ]
  },
  {
   "cell_type": "markdown",
   "id": "0827e340-a54e-44f5-a86a-28954a6af3c8",
   "metadata": {},
   "source": [
    "We can see that our Decima2 explanations run in half the time as the SHAP algorithm!"
   ]
  },
  {
   "cell_type": "code",
   "execution_count": null,
   "id": "e1acd992-a35a-4fec-b1d9-bcdddf3e8a24",
   "metadata": {},
   "outputs": [],
   "source": []
  }
 ],
 "metadata": {
  "kernelspec": {
   "display_name": "Python 3 (ipykernel)",
   "language": "python",
   "name": "python3"
  },
  "language_info": {
   "codemirror_mode": {
    "name": "ipython",
    "version": 3
   },
   "file_extension": ".py",
   "mimetype": "text/x-python",
   "name": "python",
   "nbconvert_exporter": "python",
   "pygments_lexer": "ipython3",
   "version": "3.12.7"
  }
 },
 "nbformat": 4,
 "nbformat_minor": 5
}
