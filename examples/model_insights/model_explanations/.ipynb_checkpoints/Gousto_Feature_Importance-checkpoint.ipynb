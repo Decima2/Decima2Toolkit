{
 "cells": [
  {
   "cell_type": "markdown",
   "id": "3aff6c3d-5ad9-4ca9-8ea4-183a9a9ae70c",
   "metadata": {},
   "source": [
    "# Gousto Model Feature Importance"
   ]
  },
  {
   "cell_type": "markdown",
   "id": "d6e3bce3-eb73-47c9-9b17-d046ba4ae6bf",
   "metadata": {},
   "source": [
    "Gousto are interested in exploring explainability as a tool which helps them extract as much value as possible from their existing AI. \n",
    "\n",
    "They currently have an AI model which predicts customer churn - they are currently using this to help forecast sales. However, they want to start using their AI to extract real business insights which will help them retain more customers and ultimately save them money. "
   ]
  },
  {
   "cell_type": "code",
   "execution_count": 1,
   "id": "6582dd1a-30bc-49a1-b373-7bfe27e8d3cb",
   "metadata": {},
   "outputs": [],
   "source": [
    "import shap\n",
    "import numpy as np\n",
    "import pandas as pd\n",
    "from decima2 import model_feature_importance\n",
    "from decima2 import grouped_feature_importance\n",
    "\n",
    "\n",
    "from sklearn.model_selection import train_test_split\n",
    "from sklearn.ensemble import RandomForestClassifier\n",
    "\n",
    "from decima2.utils.utils import feature_names\n",
    "import time"
   ]
  },
  {
   "cell_type": "markdown",
   "id": "6f9bb2a0-cb5c-4b39-8b59-7765f38961d0",
   "metadata": {},
   "source": [
    "## Developer Role at Gousto - What They've Achieved So Far \n",
    "\n",
    "Let's assume A machine learning developer at Gousto has built a model which predicts whether or not a customer will stay a subscriber based based on the features 'Age' 'Number of Sales Calls made to that person' 'Whether or not that person received a discount', 'Gender' and 'How much was spent on adverts which targeted that person'. The model predicts customer churn with a high accuracy of 0.85"
   ]
  },
  {
   "cell_type": "code",
   "execution_count": 288,
   "id": "66135306-d43a-4b82-b819-ceb064b465e1",
   "metadata": {},
   "outputs": [],
   "source": [
    "def create_custom_dataframe():\n",
    "    num_rows = 5000\n",
    "\n",
    "    age = np.random.normal(40,10, size=num_rows)\n",
    "    age = [int(i) for i in age]\n",
    "    sales_calls = np.random.normal(20,5, size=num_rows)\n",
    "    discount = [np.random.binomial(n=1, p=0.5) for i in range(num_rows)]\n",
    "    gender = [np.random.binomial(n=1, p=0.5) for i in range(num_rows)]\n",
    "    ad_spend = np.random.normal(50, 10, size=num_rows)\n",
    "\n",
    "    target_1 = [1 if i > 10 else 0.5 for i in age]\n",
    "    target = [(ad_spend[i] * target_1[i]) + np.random.normal(5,5) for i in range(num_rows)]\n",
    "        \n",
    "    \n",
    "    data = {\n",
    "        'Age': age, #independent feature\n",
    "        'Sales Calls': sales_calls, # dependent feature   \n",
    "        'Discount': discount, #independent feature\n",
    "        'Gender': gender,\n",
    "        'Ad Spend': ad_spend,\n",
    "    }\n",
    "    \n",
    "    X = pd.DataFrame(data)\n",
    "    y = np.array([1 if i > 50 else 0 for i in target])\n",
    "    return X, y"
   ]
  },
  {
   "cell_type": "code",
   "execution_count": 289,
   "id": "8bacde87-9965-41e3-9a86-6a4e15216c68",
   "metadata": {},
   "outputs": [
    {
     "data": {
      "text/plain": [
       "0.85"
      ]
     },
     "execution_count": 289,
     "metadata": {},
     "output_type": "execute_result"
    }
   ],
   "source": [
    "X,y = create_custom_dataframe()\n",
    "X_train, X_test, y_train, y_test = train_test_split(X, y, test_size=0.20, random_state=42)\n",
    "model = RandomForestClassifier(max_depth=10, random_state=42)\n",
    "model.fit(X_train, y_train)\n",
    "model.score(X_test,y_test)"
   ]
  },
  {
   "cell_type": "markdown",
   "id": "057d2d09-297c-4a3a-be7b-7ecec48bcc8b",
   "metadata": {},
   "source": [
    "## Extracting More Value From AI With Feature Importance\n",
    "\n",
    "Ok so now let's assume that our developer at Gousto is reporting their model back at a weekly data meeting. The head of growth appreciates the accuracy of the model but wants to know what the model is using to make decisions. The head of marketing wants to know whether they should be focusing on sales calls or adverts to stop people cancelling their subscriptions. \n",
    "\n",
    "Decima2 can help with this!\n",
    "\n",
    "By looking at model feature importance we can see clearly that the most important feature used by the model is 'ad spend' giving an answer to head of growth. \n",
    "\n",
    "Further more if we examine the grouped feature importance grouping by Age, we can report back to the head of product that not only should we be focusing more on adverts than sales calls, but for customers over the age of 50, ad spend appears to be double as indicative of churn than other age categories so we shoudl be tageting our personalised advertising here "
   ]
  },
  {
   "cell_type": "code",
   "execution_count": 291,
   "id": "3a452eb7-418d-45f2-b9a0-5b60784becf6",
   "metadata": {},
   "outputs": [
    {
     "data": {
      "text/html": [
       "\n",
       "        <iframe\n",
       "            width=\"100%\"\n",
       "            height=\"650\"\n",
       "            src=\"http://127.0.0.1:8050/\"\n",
       "            frameborder=\"0\"\n",
       "            allowfullscreen\n",
       "            \n",
       "        ></iframe>\n",
       "        "
      ],
      "text/plain": [
       "<IPython.lib.display.IFrame at 0x307dfb560>"
      ]
     },
     "metadata": {},
     "output_type": "display_data"
    }
   ],
   "source": [
    "explanation_app = model_feature_importance(X_test,y_test,model)\n",
    "explanation_app.run()"
   ]
  },
  {
   "cell_type": "code",
   "execution_count": 292,
   "id": "5f7f94c9-ede7-49ec-8eea-4b50d78e0be4",
   "metadata": {},
   "outputs": [],
   "source": [
    "explanation_app = grouped_feature_importance(X_test,y_test,model,'Age')\n"
   ]
  },
  {
   "cell_type": "code",
   "execution_count": 293,
   "id": "009f01cf-4e03-479a-9467-a08d663d026f",
   "metadata": {},
   "outputs": [
    {
     "data": {
      "text/html": [
       "\n",
       "        <iframe\n",
       "            width=\"100%\"\n",
       "            height=\"650\"\n",
       "            src=\"http://127.0.0.1:8050/\"\n",
       "            frameborder=\"0\"\n",
       "            allowfullscreen\n",
       "            \n",
       "        ></iframe>\n",
       "        "
      ],
      "text/plain": [
       "<IPython.lib.display.IFrame at 0x307d610d0>"
      ]
     },
     "metadata": {},
     "output_type": "display_data"
    }
   ],
   "source": [
    "explanation_app.run()"
   ]
  },
  {
   "cell_type": "markdown",
   "id": "507ffb02-ff32-4172-bb1d-ab1cf4da53b0",
   "metadata": {},
   "source": []
  }
 ],
 "metadata": {
  "kernelspec": {
   "display_name": "Python 3 (ipykernel)",
   "language": "python",
   "name": "python3"
  },
  "language_info": {
   "codemirror_mode": {
    "name": "ipython",
    "version": 3
   },
   "file_extension": ".py",
   "mimetype": "text/x-python",
   "name": "python",
   "nbconvert_exporter": "python",
   "pygments_lexer": "ipython3",
   "version": "3.12.7"
  }
 },
 "nbformat": 4,
 "nbformat_minor": 5
}
