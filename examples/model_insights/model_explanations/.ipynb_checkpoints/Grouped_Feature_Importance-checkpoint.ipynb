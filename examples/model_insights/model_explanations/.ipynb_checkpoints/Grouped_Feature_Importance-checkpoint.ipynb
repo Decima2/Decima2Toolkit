{
 "cells": [
  {
   "cell_type": "markdown",
   "id": "981121a8-0919-484f-9956-5d2da24ada7d",
   "metadata": {},
   "source": [
    "### How Grouped Feature Importance Can Help You Understand Your Models "
   ]
  },
  {
   "cell_type": "markdown",
   "id": "6860b8b1-2d06-4501-990b-654fbdcf546e",
   "metadata": {},
   "source": [
    "In this notebook we illustrate with an example, how grouped feature importance can identify fundamental problems with your model. We shoud you how easy it is to use the module and compare the process to SHAP"
   ]
  },
  {
   "cell_type": "markdown",
   "id": "60eafc2d-20d8-47b5-9bf6-0fff416bbdc0",
   "metadata": {},
   "source": [
    "We first import the relevant modules "
   ]
  },
  {
   "cell_type": "code",
   "execution_count": 28,
   "id": "db56096a-9ab2-4f7e-a9f8-11c49dadd378",
   "metadata": {},
   "outputs": [],
   "source": [
    "from example import grouped_feature_importance\n",
    "\n",
    "from sklearn.model_selection import train_test_split\n",
    "from sklearn.ensemble import RandomForestClassifier\n",
    "\n",
    "import pandas as pd\n",
    "import numpy as np"
   ]
  },
  {
   "cell_type": "markdown",
   "id": "6776d376-d285-4cb2-b25e-e5dbd7b9a195",
   "metadata": {},
   "source": [
    "We now construct a dataset of three features, each of our features can take one of three integer. Our binary y target variable takes 1 id 'Feature 2' is equal to and 0 otherwise. Our function is therefore entirely dependent on Feature 2. However, below we demonstrate how grouped feature importance can help developers identify importances in their dataset as well as in the model. "
   ]
  },
  {
   "cell_type": "code",
   "execution_count": 29,
   "id": "67692aff-2b6c-4a4b-a374-c870d5592d9a",
   "metadata": {},
   "outputs": [],
   "source": [
    "def create_custom_dataframe():\n",
    "    num_rows = 500\n",
    "    data = {\n",
    "        'Feature_0': np.random.choice([0,1,2], size=num_rows),  # Categorical feature with 3 unique values\n",
    "        'Feature_1': np.random.choice([0,1,2], size=num_rows),   # Categorical feature with 3 unique values\n",
    "        'Feature_2': np.random.choice([0,1,2], size=num_rows)      # Continuous feature\n",
    "    }\n",
    "    \n",
    "    X = pd.DataFrame(data)\n",
    "    #y = np.random.choice([0, 1], size=num_rows)  # Binary target\n",
    "    y = [1 if i > 1 else 0 for i in X['Feature_2']]\n",
    "    return X, y"
   ]
  },
  {
   "cell_type": "markdown",
   "id": "b3ab8051-3c69-4588-9d80-2d229e4f69bb",
   "metadata": {},
   "source": [
    "Given our dataset of three categorical variables we now synthesise a situation where we have a sparsity weakness in our dataset. We remove all data points where 'Feature 2' == 0 and 'Feature_0' == 0. As our feature importance measures are calculated using the change in model performance (in this case accuracy for our classifier) when a particular feature is removed for a set of test data, if we group our feature importance over values of Feature_0, we are hoping that our importances will reveal that our model is highly unstable when Feature_0 == 0. "
   ]
  },
  {
   "cell_type": "code",
   "execution_count": 30,
   "id": "01ca15b7-0d3e-47ca-9369-5866c070aa39",
   "metadata": {},
   "outputs": [],
   "source": [
    "X,y = create_custom_dataframe()\n",
    "selected_X = X[X['Feature_2'] < 1]\n",
    "selected_X = selected_X.index[selected_X['Feature_0'] < 1]\n",
    "X = X.drop(selected_X)\n",
    "y = np.array([y[i] for i in X.index])\n",
    "X = X.reset_index()\n",
    "X = X.drop('index',axis=1)"
   ]
  },
  {
   "cell_type": "markdown",
   "id": "662fea0f-721f-41d6-b117-768081872012",
   "metadata": {},
   "source": [
    "Below is a scatter plot showing our data manifold for features Feature_0 and Feature_2"
   ]
  },
  {
   "cell_type": "code",
   "execution_count": 31,
   "id": "eb8fb8e5-d2ed-41da-bce9-36102d62b6c3",
   "metadata": {},
   "outputs": [
    {
     "data": {
      "text/plain": [
       "<matplotlib.collections.PathCollection at 0x314c504a0>"
      ]
     },
     "execution_count": 31,
     "metadata": {},
     "output_type": "execute_result"
    },
    {
     "data": {
      "image/png": "[encoded data removed]",
      "text/plain": [
       "<Figure size 640x480 with 1 Axes>"
      ]
     },
     "metadata": {},
     "output_type": "display_data"
    }
   ],
   "source": [
    "import matplotlib.pyplot as plt\n",
    "plt.scatter(X['Feature_0'],X['Feature_2'])"
   ]
  },
  {
   "cell_type": "markdown",
   "id": "7a222c10-2848-4fa1-ba19-6314f89fcccf",
   "metadata": {},
   "source": [
    "We train a RFC on our data to replicate our simple function with perfect accuracy"
   ]
  },
  {
   "cell_type": "code",
   "execution_count": 32,
   "id": "4d7dc76e-e95d-4722-ba1b-3a391c3c60e8",
   "metadata": {},
   "outputs": [
    {
     "data": {
      "text/plain": [
       "1.0"
      ]
     },
     "execution_count": 32,
     "metadata": {},
     "output_type": "execute_result"
    }
   ],
   "source": [
    "X_train, X_test, y_train, y_test = train_test_split(X, y, test_size=0.4, random_state=42)\n",
    "model = RandomForestClassifier(n_estimators=2, random_state=42)\n",
    "model.fit(X_train, y_train)\n",
    "model.score(X_test,y_test)"
   ]
  },
  {
   "cell_type": "markdown",
   "id": "437ca879-c4e1-406b-aee7-58fc3f26dbd8",
   "metadata": {},
   "source": [
    "We run our grouped feature importance module using X_test, y_test and our trained model. We select Feature_0 as our feature ww would like to group over and allow the number of categories to be selected automatically"
   ]
  },
  {
   "cell_type": "code",
   "execution_count": 33,
   "id": "dc78a317-d69a-46a1-8783-5899f08b561f",
   "metadata": {},
   "outputs": [
    {
     "name": "stdout",
     "output_type": "stream",
     "text": [
      "in dynamic\n"
     ]
    }
   ],
   "source": [
    "app = grouped_feature_importance(X_test,y_test,model,'Feature_0')"
   ]
  },
  {
   "cell_type": "markdown",
   "id": "c91a2b6d-b4ac-453b-8cd1-d53614c0ef7c",
   "metadata": {},
   "source": [
    "We then run our returned plotly Dash APP which shows us our interesting results. By selecting different values of Feature_0, we can see that for the part of our data distribution which are well defined, the feature importances correctly identify Feature_2 as the most important feature. However, for the part of the data distribution which is is ill defined (Feature_0 is 0 and Feature_2 is 0) our feature importances are different, with even importances over each feature indicating that for this group of data, the function is behaving differently. While we cannot tell exactly why our function is behaving differently for this group of data, we can use these insights to inspect and improve our models "
   ]
  },
  {
   "cell_type": "code",
   "execution_count": 34,
   "id": "5eafe653-142b-4967-b3f8-15c2c6664b52",
   "metadata": {},
   "outputs": [
    {
     "data": {
      "text/html": [
       "\n",
       "        <iframe\n",
       "            width=\"100%\"\n",
       "            height=\"650\"\n",
       "            src=\"http://127.0.0.1:8050/\"\n",
       "            frameborder=\"0\"\n",
       "            allowfullscreen\n",
       "            \n",
       "        ></iframe>\n",
       "        "
      ],
      "text/plain": [
       "<IPython.lib.display.IFrame at 0x314c28530>"
      ]
     },
     "metadata": {},
     "output_type": "display_data"
    }
   ],
   "source": [
    "app.run()"
   ]
  },
  {
   "cell_type": "code",
   "execution_count": null,
   "id": "cdc341a1-8394-499d-b8e9-5da7d72f1440",
   "metadata": {},
   "outputs": [],
   "source": []
  },
  {
   "cell_type": "code",
   "execution_count": null,
   "id": "d6ab4793-95b0-4a9d-b260-9b5e552702fb",
   "metadata": {},
   "outputs": [],
   "source": []
  }
 ],
 "metadata": {
  "kernelspec": {
   "display_name": "Python 3 (ipykernel)",
   "language": "python",
   "name": "python3"
  },
  "language_info": {
   "codemirror_mode": {
    "name": "ipython",
    "version": 3
   },
   "file_extension": ".py",
   "mimetype": "text/x-python",
   "name": "python",
   "nbconvert_exporter": "python",
   "pygments_lexer": "ipython3",
   "version": "3.12.7"
  }
 },
 "nbformat": 4,
 "nbformat_minor": 5
}
